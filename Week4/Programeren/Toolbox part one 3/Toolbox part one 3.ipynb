{
 "cells": [
  {
   "cell_type": "markdown",
   "metadata": {},
   "source": [
    "# Python toolbox part one 3\n",
    "- Lambda functies\n",
    "- foutafhandeling"
   ]
  },
  {
   "cell_type": "markdown",
   "metadata": {},
   "source": [
    "## 12.1 Lambda basis\n",
    "\n",
    "- De functie in onderstaande cel vermenigvuldigt de x parameter met de y parameter.\n",
    "- Maak een Lambda functie die hetzelfde doet.\n",
    "- Print het resultaat van de lambda functie"
   ]
  },
  {
   "cell_type": "code",
   "execution_count": 1,
   "metadata": {},
   "outputs": [
    {
     "name": "stdout",
     "output_type": "stream",
     "text": [
      "15\n"
     ]
    }
   ],
   "source": [
    "# def mult(x,y):\n",
    "#     result = x * y\n",
    "#     return result\n",
    "\n",
    "mult = lambda x,y: x*y\n",
    "\n",
    "example = mult(3,5)\n",
    "print(example)"
   ]
  },
  {
   "cell_type": "markdown",
   "metadata": {},
   "source": [
    "## 12.2 Map() en lambda\n",
    "- De GBP/EUR wisselkoers is 1.2\n",
    "- gbp_amounts is een list met daarin bedragen in GBP (Britse Ponden)\n",
    "- Maak een list waarin je de GBP bedragen omrekent naar EUR waarbij je gebruik maakt van map() en lambda."
   ]
  },
  {
   "cell_type": "code",
   "execution_count": 2,
   "metadata": {},
   "outputs": [
    {
     "name": "stdout",
     "output_type": "stream",
     "text": [
      "[30.0, 60.0, 90.0, 120.0, 150.0]\n"
     ]
    }
   ],
   "source": [
    "gbp_eur = 1.2\n",
    "gbp_amounts = [25, 50, 75, 100, 125]\n",
    "\n",
    "eur_amounts = list(map((lambda x: x*gbp_eur), gbp_amounts))\n",
    "\n",
    "print(eur_amounts)"
   ]
  },
  {
   "cell_type": "markdown",
   "metadata": {},
   "source": [
    "## 12.3 Filter() en lambda \n",
    "- Print een list met daarin alleen de even nummers uit gbp_amounts. Maak darvoor gebruik van filter() en een lambda functie. \n",
    "- Hint: pas de modulo operator toe om te bepalen of het een even getal is."
   ]
  },
  {
   "cell_type": "code",
   "execution_count": 3,
   "metadata": {},
   "outputs": [
    {
     "name": "stdout",
     "output_type": "stream",
     "text": [
      "[50, 100]\n"
     ]
    }
   ],
   "source": [
    "gbp_amounts = [25, 50, 75, 100, 125]\n",
    "\n",
    "even_amounts = list(filter(lambda x: x%2==0 , gbp_amounts))\n",
    "print(even_amounts)"
   ]
  },
  {
   "cell_type": "markdown",
   "metadata": {},
   "source": [
    "## 12.4 Reduce() en lambda functies\n",
    "- Print de totale som van de bedragen in gbp_amounts. Maak hierbij gebruik van reduce() en een lambda functie."
   ]
  },
  {
   "cell_type": "code",
   "execution_count": 4,
   "metadata": {},
   "outputs": [
    {
     "name": "stdout",
     "output_type": "stream",
     "text": [
      "375\n"
     ]
    }
   ],
   "source": [
    "from functools import reduce\n",
    "gbp_amounts = [25, 50, 75, 100, 125]\n",
    "\n",
    "sum_amount = reduce(lambda x, y: x+y, gbp_amounts)\n",
    "print(sum_amount)"
   ]
  },
  {
   "cell_type": "markdown",
   "metadata": {},
   "source": [
    "## 12.5 Foutmeldingen\n",
    "- Voer onderstaande cel uit om het storedata dataframe aan te maken."
   ]
  },
  {
   "cell_type": "code",
   "execution_count": 5,
   "metadata": {},
   "outputs": [
    {
     "name": "stdout",
     "output_type": "stream",
     "text": [
      "['Town', 'Country', 'Manager name', 'Staff', 'Floor Space', 'Window', 'Car park', 'Demographic score', 'Location', '40min population', '30 min population', '20 min population', '10 min population', 'Store age', 'Clearance space', 'Competition number', 'Competition score', 'Turnover', 'Performance']\n"
     ]
    }
   ],
   "source": [
    "#Importing uncleaned storedata into storedata\n",
    "import pandas as pd\n",
    "import numpy as np\n",
    "storedata = pd.read_csv('storedata.csv', encoding = \"ISO-8859-1\",sep=\",\",index_col=2)\n",
    "storedata.rename(columns={'Profit': 'Turnover'}, inplace=True)\n",
    "\n",
    "print(list(storedata.columns))"
   ]
  },
  {
   "cell_type": "markdown",
   "metadata": {},
   "source": [
    "### 12.5.1 Try en except\n",
    "In onderstaande cel vind je weer de functie waarmee je het aantal unieke waardes in een kolom telt.\n",
    "- Voeg 'try & excecpt' foutafhandeling toe, waarbij de volgende melding wordt geprint als de kolomnaam niet bestaat:\n",
    "\n",
    "\n",
    "Only use column names: ['Town', 'Country', 'Manager name', 'Staff', 'Floor Space', 'Window', 'Car park', 'Demographic score', 'Location', '40min population', '30 min population', '20 min population', '10 min population', 'Store age', 'Clearance space', 'Competition number', 'Competition score', 'Turnover', 'Performance']\n",
    "\n",
    "Hint: in bovenstaande cel vind je hoe je de kolomnamen kunt bepalen.\n"
   ]
  },
  {
   "cell_type": "code",
   "execution_count": 6,
   "metadata": {},
   "outputs": [
    {
     "name": "stdout",
     "output_type": "stream",
     "text": [
      "Only use column names: ['Town', 'Country', 'Manager name', 'Staff', 'Floor Space', 'Window', 'Car park', 'Demographic score', 'Location', '40min population', '30 min population', '20 min population', '10 min population', 'Store age', 'Clearance space', 'Competition number', 'Competition score', 'Turnover', 'Performance']\n"
     ]
    }
   ],
   "source": [
    "def check(df,name) :\n",
    "    try:\n",
    "        col = df[name]\n",
    "    except:\n",
    "        return \"Only use column names: ['Town', 'Country', 'Manager name', 'Staff', 'Floor Space', 'Window', 'Car park', 'Demographic score', 'Location', '40min population', '30 min population', '20 min population', '10 min population', 'Store age', 'Clearance space', 'Competition number', 'Competition score', 'Turnover', 'Performance']\"\n",
    "    \n",
    "    \n",
    "    count_values = {}\n",
    "    for value in col:\n",
    "        if value in count_values:\n",
    "            count_values[value] = count_values[value] + 1\n",
    "        else:\n",
    "            count_values[value] = 1\n",
    "    return count_values\n",
    "\n",
    "print(check(storedata,'Staff1')) "
   ]
  },
  {
   "cell_type": "markdown",
   "metadata": {},
   "source": [
    "### 12.5.2 Raising an error\n",
    "\n",
    "- Pas de functie opnieuw aan. Wek nu een \"value error\" op (raise an error) als de de gekozen kolomnaam niet bestaat. Zorg ervoor dat de volgende tekst wordt getoond:\n",
    "\n",
    "Only use column names: ['Town', 'Country', 'Manager name', 'Staff', 'Floor Space', 'Window', 'Car park', 'Demographic score', 'Location', '40min population', '30 min population', '20 min population', '10 min population', 'Store age', 'Clearance space', 'Competition number', 'Competition score', 'Turnover', 'Performance']"
   ]
  },
  {
   "cell_type": "code",
   "execution_count": 7,
   "metadata": {},
   "outputs": [
    {
     "ename": "ValueError",
     "evalue": "Only use column names: ['Town', 'Country', 'Manager name', 'Staff', 'Floor Space', 'Window', 'Car park', 'Demographic score', 'Location', '40min population', '30 min population', '20 min population', '10 min population', 'Store age', 'Clearance space', 'Competition number', 'Competition score', 'Turnover', 'Performance']",
     "output_type": "error",
     "traceback": [
      "\u001b[1;31m---------------------------------------------------------------------------\u001b[0m",
      "\u001b[1;31mKeyError\u001b[0m                                  Traceback (most recent call last)",
      "File \u001b[1;32mc:\\Users\\adrka\\AppData\\Local\\Programs\\Python\\Python311\\Lib\\site-packages\\pandas\\core\\indexes\\base.py:3803\u001b[0m, in \u001b[0;36mIndex.get_loc\u001b[1;34m(self, key, method, tolerance)\u001b[0m\n\u001b[0;32m   3802\u001b[0m \u001b[39mtry\u001b[39;00m:\n\u001b[1;32m-> 3803\u001b[0m     \u001b[39mreturn\u001b[39;00m \u001b[39mself\u001b[39;49m\u001b[39m.\u001b[39;49m_engine\u001b[39m.\u001b[39;49mget_loc(casted_key)\n\u001b[0;32m   3804\u001b[0m \u001b[39mexcept\u001b[39;00m \u001b[39mKeyError\u001b[39;00m \u001b[39mas\u001b[39;00m err:\n",
      "File \u001b[1;32mc:\\Users\\adrka\\AppData\\Local\\Programs\\Python\\Python311\\Lib\\site-packages\\pandas\\_libs\\index.pyx:138\u001b[0m, in \u001b[0;36mpandas._libs.index.IndexEngine.get_loc\u001b[1;34m()\u001b[0m\n",
      "File \u001b[1;32mc:\\Users\\adrka\\AppData\\Local\\Programs\\Python\\Python311\\Lib\\site-packages\\pandas\\_libs\\index.pyx:165\u001b[0m, in \u001b[0;36mpandas._libs.index.IndexEngine.get_loc\u001b[1;34m()\u001b[0m\n",
      "File \u001b[1;32mpandas\\_libs\\hashtable_class_helper.pxi:5745\u001b[0m, in \u001b[0;36mpandas._libs.hashtable.PyObjectHashTable.get_item\u001b[1;34m()\u001b[0m\n",
      "File \u001b[1;32mpandas\\_libs\\hashtable_class_helper.pxi:5753\u001b[0m, in \u001b[0;36mpandas._libs.hashtable.PyObjectHashTable.get_item\u001b[1;34m()\u001b[0m\n",
      "\u001b[1;31mKeyError\u001b[0m: 'Staff1'",
      "\nThe above exception was the direct cause of the following exception:\n",
      "\u001b[1;31mKeyError\u001b[0m                                  Traceback (most recent call last)",
      "Cell \u001b[1;32mIn [7], line 3\u001b[0m, in \u001b[0;36mcheck\u001b[1;34m(df, name)\u001b[0m\n\u001b[0;32m      2\u001b[0m \u001b[39mtry\u001b[39;00m:\n\u001b[1;32m----> 3\u001b[0m     col \u001b[39m=\u001b[39m df[name]\n\u001b[0;32m      4\u001b[0m \u001b[39mexcept\u001b[39;00m:\n",
      "File \u001b[1;32mc:\\Users\\adrka\\AppData\\Local\\Programs\\Python\\Python311\\Lib\\site-packages\\pandas\\core\\frame.py:3804\u001b[0m, in \u001b[0;36mDataFrame.__getitem__\u001b[1;34m(self, key)\u001b[0m\n\u001b[0;32m   3803\u001b[0m     \u001b[39mreturn\u001b[39;00m \u001b[39mself\u001b[39m\u001b[39m.\u001b[39m_getitem_multilevel(key)\n\u001b[1;32m-> 3804\u001b[0m indexer \u001b[39m=\u001b[39m \u001b[39mself\u001b[39;49m\u001b[39m.\u001b[39;49mcolumns\u001b[39m.\u001b[39;49mget_loc(key)\n\u001b[0;32m   3805\u001b[0m \u001b[39mif\u001b[39;00m is_integer(indexer):\n",
      "File \u001b[1;32mc:\\Users\\adrka\\AppData\\Local\\Programs\\Python\\Python311\\Lib\\site-packages\\pandas\\core\\indexes\\base.py:3805\u001b[0m, in \u001b[0;36mIndex.get_loc\u001b[1;34m(self, key, method, tolerance)\u001b[0m\n\u001b[0;32m   3804\u001b[0m \u001b[39mexcept\u001b[39;00m \u001b[39mKeyError\u001b[39;00m \u001b[39mas\u001b[39;00m err:\n\u001b[1;32m-> 3805\u001b[0m     \u001b[39mraise\u001b[39;00m \u001b[39mKeyError\u001b[39;00m(key) \u001b[39mfrom\u001b[39;00m \u001b[39merr\u001b[39;00m\n\u001b[0;32m   3806\u001b[0m \u001b[39mexcept\u001b[39;00m \u001b[39mTypeError\u001b[39;00m:\n\u001b[0;32m   3807\u001b[0m     \u001b[39m# If we have a listlike key, _check_indexing_error will raise\u001b[39;00m\n\u001b[0;32m   3808\u001b[0m     \u001b[39m#  InvalidIndexError. Otherwise we fall through and re-raise\u001b[39;00m\n\u001b[0;32m   3809\u001b[0m     \u001b[39m#  the TypeError.\u001b[39;00m\n",
      "\u001b[1;31mKeyError\u001b[0m: 'Staff1'",
      "\nDuring handling of the above exception, another exception occurred:\n",
      "\u001b[1;31mValueError\u001b[0m                                Traceback (most recent call last)",
      "Cell \u001b[1;32mIn [7], line 14\u001b[0m\n\u001b[0;32m     12\u001b[0m             count_values[value] \u001b[39m=\u001b[39m \u001b[39m1\u001b[39m\n\u001b[0;32m     13\u001b[0m     \u001b[39mreturn\u001b[39;00m count_values\n\u001b[1;32m---> 14\u001b[0m \u001b[39mprint\u001b[39m(check(storedata,\u001b[39m'\u001b[39;49m\u001b[39mStaff1\u001b[39;49m\u001b[39m'\u001b[39;49m)) \n",
      "Cell \u001b[1;32mIn [7], line 5\u001b[0m, in \u001b[0;36mcheck\u001b[1;34m(df, name)\u001b[0m\n\u001b[0;32m      3\u001b[0m     col \u001b[39m=\u001b[39m df[name]\n\u001b[0;32m      4\u001b[0m \u001b[39mexcept\u001b[39;00m:\n\u001b[1;32m----> 5\u001b[0m     \u001b[39mraise\u001b[39;00m \u001b[39mValueError\u001b[39;00m(\u001b[39m\"\u001b[39m\u001b[39mOnly use column names: [\u001b[39m\u001b[39m'\u001b[39m\u001b[39mTown\u001b[39m\u001b[39m'\u001b[39m\u001b[39m, \u001b[39m\u001b[39m'\u001b[39m\u001b[39mCountry\u001b[39m\u001b[39m'\u001b[39m\u001b[39m, \u001b[39m\u001b[39m'\u001b[39m\u001b[39mManager name\u001b[39m\u001b[39m'\u001b[39m\u001b[39m, \u001b[39m\u001b[39m'\u001b[39m\u001b[39mStaff\u001b[39m\u001b[39m'\u001b[39m\u001b[39m, \u001b[39m\u001b[39m'\u001b[39m\u001b[39mFloor Space\u001b[39m\u001b[39m'\u001b[39m\u001b[39m, \u001b[39m\u001b[39m'\u001b[39m\u001b[39mWindow\u001b[39m\u001b[39m'\u001b[39m\u001b[39m, \u001b[39m\u001b[39m'\u001b[39m\u001b[39mCar park\u001b[39m\u001b[39m'\u001b[39m\u001b[39m, \u001b[39m\u001b[39m'\u001b[39m\u001b[39mDemographic score\u001b[39m\u001b[39m'\u001b[39m\u001b[39m, \u001b[39m\u001b[39m'\u001b[39m\u001b[39mLocation\u001b[39m\u001b[39m'\u001b[39m\u001b[39m, \u001b[39m\u001b[39m'\u001b[39m\u001b[39m40min population\u001b[39m\u001b[39m'\u001b[39m\u001b[39m, \u001b[39m\u001b[39m'\u001b[39m\u001b[39m30 min population\u001b[39m\u001b[39m'\u001b[39m\u001b[39m, \u001b[39m\u001b[39m'\u001b[39m\u001b[39m20 min population\u001b[39m\u001b[39m'\u001b[39m\u001b[39m, \u001b[39m\u001b[39m'\u001b[39m\u001b[39m10 min population\u001b[39m\u001b[39m'\u001b[39m\u001b[39m, \u001b[39m\u001b[39m'\u001b[39m\u001b[39mStore age\u001b[39m\u001b[39m'\u001b[39m\u001b[39m, \u001b[39m\u001b[39m'\u001b[39m\u001b[39mClearance space\u001b[39m\u001b[39m'\u001b[39m\u001b[39m, \u001b[39m\u001b[39m'\u001b[39m\u001b[39mCompetition number\u001b[39m\u001b[39m'\u001b[39m\u001b[39m, \u001b[39m\u001b[39m'\u001b[39m\u001b[39mCompetition score\u001b[39m\u001b[39m'\u001b[39m\u001b[39m, \u001b[39m\u001b[39m'\u001b[39m\u001b[39mTurnover\u001b[39m\u001b[39m'\u001b[39m\u001b[39m, \u001b[39m\u001b[39m'\u001b[39m\u001b[39mPerformance\u001b[39m\u001b[39m'\u001b[39m\u001b[39m]\u001b[39m\u001b[39m\"\u001b[39m)\n\u001b[0;32m      7\u001b[0m count_values \u001b[39m=\u001b[39m {}\n\u001b[0;32m      8\u001b[0m \u001b[39mfor\u001b[39;00m value \u001b[39min\u001b[39;00m col:\n",
      "\u001b[1;31mValueError\u001b[0m: Only use column names: ['Town', 'Country', 'Manager name', 'Staff', 'Floor Space', 'Window', 'Car park', 'Demographic score', 'Location', '40min population', '30 min population', '20 min population', '10 min population', 'Store age', 'Clearance space', 'Competition number', 'Competition score', 'Turnover', 'Performance']"
     ]
    }
   ],
   "source": [
    "def check(df,name) :\n",
    "    try:\n",
    "        col = df[name]\n",
    "    except:\n",
    "        raise ValueError(\"Only use column names: ['Town', 'Country', 'Manager name', 'Staff', 'Floor Space', 'Window', 'Car park', 'Demographic score', 'Location', '40min population', '30 min population', '20 min population', '10 min population', 'Store age', 'Clearance space', 'Competition number', 'Competition score', 'Turnover', 'Performance']\")\n",
    "    \n",
    "    count_values = {}\n",
    "    for value in col:\n",
    "        if value in count_values:\n",
    "            count_values[value] = count_values[value] + 1\n",
    "        else:\n",
    "            count_values[value] = 1\n",
    "    return count_values\n",
    "print(check(storedata,'Staff1')) "
   ]
  },
  {
   "cell_type": "markdown",
   "metadata": {},
   "source": [
    "## 12.6 Integratie\n",
    "\n",
    "- Gebruik filter(lambda) om een list met omzetten uit storedata['Turnover'] te filteren met daarin alleen de bedragen die groter zijn dan 3000000.\n",
    "- Print de list en het aantal elementen in de list"
   ]
  },
  {
   "cell_type": "code",
   "execution_count": null,
   "metadata": {},
   "outputs": [
    {
     "name": "stdout",
     "output_type": "stream",
     "text": [
      "[3410865, 4034051, 3058134, 3345936, 3117205, 3153278, 3056804, 3797953, 3138911, 3321899, 3640627, 3075352, 3491993, 3252148, 3041618, 3737466, 4217291, 3516397, 3957233, 4253984, 4185306, 4160531, 3100521, 3246954, 3741911, 4137224, 3572475, 3121837, 4176642, 4300537, 3758014, 3032277, 3625088, 3336417, 3175101, 4587304, 3029751, 3418735, 3197934, 3135133, 3822904, 3524409, 3709026, 3337861, 3260276, 4237135, 3007050, 4018966, 3817558, 4793593, 3192066, 3092180, 3606536, 3304795, 3663843, 3965957, 3487542, 3102538, 3895318, 3741407, 3654694, 3598894, 3444876, 3891535, 3498966, 3501093, 3774401, 3584813, 3485295]\n"
     ]
    }
   ],
   "source": [
    "turnover3M = list(filter(lambda x: x>3000000,  storedata['Turnover']))\n",
    "print(turnover3M)"
   ]
  }
 ],
 "metadata": {
  "kernelspec": {
   "display_name": "Python 3.11.0 64-bit",
   "language": "python",
   "name": "python3"
  },
  "language_info": {
   "codemirror_mode": {
    "name": "ipython",
    "version": 3
   },
   "file_extension": ".py",
   "mimetype": "text/x-python",
   "name": "python",
   "nbconvert_exporter": "python",
   "pygments_lexer": "ipython3",
   "version": "3.11.0"
  },
  "vscode": {
   "interpreter": {
    "hash": "c3941ba0c0426d0d78f6b0396c853f05363bf15fab2656367eb2df20e99c6933"
   }
  }
 },
 "nbformat": 4,
 "nbformat_minor": 2
}
