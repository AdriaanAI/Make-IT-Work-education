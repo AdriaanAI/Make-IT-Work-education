{
 "cells": [
  {
   "cell_type": "markdown",
   "metadata": {},
   "source": [
    "# Opdracht week 8"
   ]
  },
  {
   "cell_type": "markdown",
   "metadata": {},
   "source": [
    "## Vraag 1"
   ]
  },
  {
   "cell_type": "markdown",
   "metadata": {},
   "source": [
    "Gebruik de cbs API om data op te halen van het cbs. Je mag zelf de tabel kiezen (alleen niet de tabel van de voorbeeldopdracht). Haal eerst de metadata op."
   ]
  },
  {
   "cell_type": "code",
   "execution_count": 48,
   "metadata": {},
   "outputs": [
    {
     "name": "stdout",
     "output_type": "stream",
     "text": [
      "84669NED / 83583NED / 83582NED / 83628NED / 83658NED / 84826NED / 83257NED / 83255NED / 83256NED / 83599NED / 85081NED / 80472ned / 80473ned / 80474ned / 84545NED / 80567ned / 80857ned / 84287NED \n"
     ]
    }
   ],
   "source": [
    "import cbsodata\n",
    "import numpy as np\n",
    "import pandas as pd\n",
    "\n",
    "\n",
    "toc = cbsodata.get_table_list()\n",
    "toc_list = ''\n",
    "for toc_sub in toc:\n",
    "    toc_list += toc_sub.get('Identifier') + ' / '\n",
    "\n",
    "print (toc_list[:196])"
   ]
  },
  {
   "cell_type": "markdown",
   "metadata": {},
   "source": [
    "## Vraag 2"
   ]
  },
  {
   "cell_type": "markdown",
   "metadata": {},
   "source": [
    "Haal nu de data op van de tabel"
   ]
  },
  {
   "cell_type": "code",
   "execution_count": 43,
   "metadata": {},
   "outputs": [],
   "source": [
    "cbs_data = cbsodata.get_data('70992eng')"
   ]
  },
  {
   "cell_type": "markdown",
   "metadata": {},
   "source": [
    "## Vraag 3\n",
    "Zet de data in een pandas dataframe"
   ]
  },
  {
   "cell_type": "code",
   "execution_count": 52,
   "metadata": {},
   "outputs": [
    {
     "data": {
      "text/html": [
       "<div>\n",
       "<style scoped>\n",
       "    .dataframe tbody tr th:only-of-type {\n",
       "        vertical-align: middle;\n",
       "    }\n",
       "\n",
       "    .dataframe tbody tr th {\n",
       "        vertical-align: top;\n",
       "    }\n",
       "\n",
       "    .dataframe thead th {\n",
       "        text-align: right;\n",
       "    }\n",
       "</style>\n",
       "<table border=\"1\" class=\"dataframe\">\n",
       "  <thead>\n",
       "    <tr style=\"text-align: right;\">\n",
       "      <th></th>\n",
       "      <th>ID</th>\n",
       "      <th>ImportsAndExports</th>\n",
       "      <th>Periods</th>\n",
       "      <th>ValueIndicesOriginal_1</th>\n",
       "      <th>ValueIndicesWorkingDayAdjusted_2</th>\n",
       "      <th>PriceIndicesOriginal_3</th>\n",
       "      <th>VolumeIndicesOriginal_4</th>\n",
       "      <th>VolumeIndicesWorkingDayAdjusted_5</th>\n",
       "      <th>ValueChangesOriginal_6</th>\n",
       "      <th>WorkingDayAdjustedValueChanges_7</th>\n",
       "      <th>PriceChangesOriginal_8</th>\n",
       "      <th>VolumeChangesOriginal_9</th>\n",
       "      <th>VolumeChangesWorkingDayAdjusted_10</th>\n",
       "    </tr>\n",
       "  </thead>\n",
       "  <tbody>\n",
       "    <tr>\n",
       "      <th>0</th>\n",
       "      <td>0</td>\n",
       "      <td>Imports</td>\n",
       "      <td>1990 January</td>\n",
       "      <td>48.9</td>\n",
       "      <td>48.0</td>\n",
       "      <td>106.7</td>\n",
       "      <td>45.9</td>\n",
       "      <td>45.1</td>\n",
       "      <td>NaN</td>\n",
       "      <td>NaN</td>\n",
       "      <td>NaN</td>\n",
       "      <td>NaN</td>\n",
       "      <td>NaN</td>\n",
       "    </tr>\n",
       "    <tr>\n",
       "      <th>1</th>\n",
       "      <td>1</td>\n",
       "      <td>Imports</td>\n",
       "      <td>1990 February</td>\n",
       "      <td>45.8</td>\n",
       "      <td>46.2</td>\n",
       "      <td>105.4</td>\n",
       "      <td>43.5</td>\n",
       "      <td>43.9</td>\n",
       "      <td>NaN</td>\n",
       "      <td>NaN</td>\n",
       "      <td>NaN</td>\n",
       "      <td>NaN</td>\n",
       "      <td>NaN</td>\n",
       "    </tr>\n",
       "    <tr>\n",
       "      <th>2</th>\n",
       "      <td>2</td>\n",
       "      <td>Imports</td>\n",
       "      <td>1990 March</td>\n",
       "      <td>50.5</td>\n",
       "      <td>50.4</td>\n",
       "      <td>104.0</td>\n",
       "      <td>48.5</td>\n",
       "      <td>48.5</td>\n",
       "      <td>NaN</td>\n",
       "      <td>NaN</td>\n",
       "      <td>NaN</td>\n",
       "      <td>NaN</td>\n",
       "      <td>NaN</td>\n",
       "    </tr>\n",
       "    <tr>\n",
       "      <th>3</th>\n",
       "      <td>3</td>\n",
       "      <td>Imports</td>\n",
       "      <td>1990 1st quarter</td>\n",
       "      <td>48.4</td>\n",
       "      <td>48.2</td>\n",
       "      <td>105.4</td>\n",
       "      <td>45.9</td>\n",
       "      <td>45.8</td>\n",
       "      <td>NaN</td>\n",
       "      <td>NaN</td>\n",
       "      <td>NaN</td>\n",
       "      <td>NaN</td>\n",
       "      <td>NaN</td>\n",
       "    </tr>\n",
       "    <tr>\n",
       "      <th>4</th>\n",
       "      <td>4</td>\n",
       "      <td>Imports</td>\n",
       "      <td>1990 April</td>\n",
       "      <td>47.9</td>\n",
       "      <td>49.0</td>\n",
       "      <td>104.5</td>\n",
       "      <td>45.8</td>\n",
       "      <td>46.9</td>\n",
       "      <td>NaN</td>\n",
       "      <td>NaN</td>\n",
       "      <td>NaN</td>\n",
       "      <td>NaN</td>\n",
       "      <td>NaN</td>\n",
       "    </tr>\n",
       "  </tbody>\n",
       "</table>\n",
       "</div>"
      ],
      "text/plain": [
       "   ID ImportsAndExports           Periods  ValueIndicesOriginal_1  \\\n",
       "0   0           Imports      1990 January                    48.9   \n",
       "1   1           Imports     1990 February                    45.8   \n",
       "2   2           Imports        1990 March                    50.5   \n",
       "3   3           Imports  1990 1st quarter                    48.4   \n",
       "4   4           Imports        1990 April                    47.9   \n",
       "\n",
       "   ValueIndicesWorkingDayAdjusted_2  PriceIndicesOriginal_3  \\\n",
       "0                              48.0                   106.7   \n",
       "1                              46.2                   105.4   \n",
       "2                              50.4                   104.0   \n",
       "3                              48.2                   105.4   \n",
       "4                              49.0                   104.5   \n",
       "\n",
       "   VolumeIndicesOriginal_4  VolumeIndicesWorkingDayAdjusted_5  \\\n",
       "0                     45.9                               45.1   \n",
       "1                     43.5                               43.9   \n",
       "2                     48.5                               48.5   \n",
       "3                     45.9                               45.8   \n",
       "4                     45.8                               46.9   \n",
       "\n",
       "   ValueChangesOriginal_6  WorkingDayAdjustedValueChanges_7  \\\n",
       "0                     NaN                               NaN   \n",
       "1                     NaN                               NaN   \n",
       "2                     NaN                               NaN   \n",
       "3                     NaN                               NaN   \n",
       "4                     NaN                               NaN   \n",
       "\n",
       "   PriceChangesOriginal_8  VolumeChangesOriginal_9  \\\n",
       "0                     NaN                      NaN   \n",
       "1                     NaN                      NaN   \n",
       "2                     NaN                      NaN   \n",
       "3                     NaN                      NaN   \n",
       "4                     NaN                      NaN   \n",
       "\n",
       "   VolumeChangesWorkingDayAdjusted_10  \n",
       "0                                 NaN  \n",
       "1                                 NaN  \n",
       "2                                 NaN  \n",
       "3                                 NaN  \n",
       "4                                 NaN  "
      ]
     },
     "metadata": {},
     "output_type": "display_data"
    }
   ],
   "source": [
    "cbs_data_df = pd.DataFrame(cbs_data)\n",
    "display(cbs_data_df.head())"
   ]
  },
  {
   "cell_type": "markdown",
   "metadata": {},
   "source": [
    "## Vraag 4"
   ]
  },
  {
   "cell_type": "markdown",
   "metadata": {},
   "source": [
    "Kies zelf een website en probeer de html code van de website af te halen met requests. Probeer vervolgens ssn specifiek html element op te halen van de html pagina."
   ]
  },
  {
   "cell_type": "code",
   "execution_count": 7,
   "metadata": {},
   "outputs": [
    {
     "data": {
      "text/plain": [
       "<header class=\"entry-header\">\n",
       "<h1>Home</h1>\n",
       "</header>"
      ]
     },
     "metadata": {},
     "output_type": "display_data"
    }
   ],
   "source": [
    "\n",
    "import requests\n",
    "from bs4 import BeautifulSoup\n",
    "\n",
    "page = requests.get('http://www.kasteleinweb.nl')\n",
    "\n",
    "html = page.text\n",
    "\n",
    "soup = BeautifulSoup(html, 'html.parser')\n",
    "element = soup.find('header')\n",
    "\n",
    "\n",
    "display(element)"
   ]
  }
 ],
 "metadata": {
  "kernelspec": {
   "display_name": "Python 3.11.0 64-bit",
   "language": "python",
   "name": "python3"
  },
  "language_info": {
   "codemirror_mode": {
    "name": "ipython",
    "version": 3
   },
   "file_extension": ".py",
   "mimetype": "text/x-python",
   "name": "python",
   "nbconvert_exporter": "python",
   "pygments_lexer": "ipython3",
   "version": "3.11.0"
  },
  "vscode": {
   "interpreter": {
    "hash": "c3941ba0c0426d0d78f6b0396c853f05363bf15fab2656367eb2df20e99c6933"
   }
  }
 },
 "nbformat": 4,
 "nbformat_minor": 2
}
