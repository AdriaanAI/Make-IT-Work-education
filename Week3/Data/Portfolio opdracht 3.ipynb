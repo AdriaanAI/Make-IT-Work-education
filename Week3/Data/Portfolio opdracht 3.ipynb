{
 "cells": [
  {
   "cell_type": "markdown",
   "metadata": {},
   "source": [
    "Import libraries"
   ]
  },
  {
   "cell_type": "code",
   "execution_count": 162,
   "metadata": {},
   "outputs": [],
   "source": [
    "import pandas as pd\n",
    "import numpy as np"
   ]
  },
  {
   "cell_type": "markdown",
   "metadata": {},
   "source": [
    "Load Dataset"
   ]
  },
  {
   "cell_type": "code",
   "execution_count": 163,
   "metadata": {},
   "outputs": [
    {
     "data": {
      "text/html": [
       "<div>\n",
       "<style scoped>\n",
       "    .dataframe tbody tr th:only-of-type {\n",
       "        vertical-align: middle;\n",
       "    }\n",
       "\n",
       "    .dataframe tbody tr th {\n",
       "        vertical-align: top;\n",
       "    }\n",
       "\n",
       "    .dataframe thead th {\n",
       "        text-align: right;\n",
       "    }\n",
       "</style>\n",
       "<table border=\"1\" class=\"dataframe\">\n",
       "  <thead>\n",
       "    <tr style=\"text-align: right;\">\n",
       "      <th></th>\n",
       "      <th>Geslacht</th>\n",
       "      <th>Bedrijfstakken/branches (SBI 2008)</th>\n",
       "      <th>Perioden</th>\n",
       "      <th>Onderwerp</th>\n",
       "      <th>Type werkenden</th>\n",
       "      <th>Waarde</th>\n",
       "    </tr>\n",
       "  </thead>\n",
       "  <tbody>\n",
       "    <tr>\n",
       "      <th>0</th>\n",
       "      <td>Mannen</td>\n",
       "      <td>A Landbouw, bosbouw en visserij</td>\n",
       "      <td>2013</td>\n",
       "      <td>Werkzame personen</td>\n",
       "      <td>Werknemers</td>\n",
       "      <td>68</td>\n",
       "    </tr>\n",
       "    <tr>\n",
       "      <th>1</th>\n",
       "      <td>Mannen</td>\n",
       "      <td>A Landbouw, bosbouw en visserij</td>\n",
       "      <td>2013</td>\n",
       "      <td>Werkzame personen</td>\n",
       "      <td>Zelfstandigen</td>\n",
       "      <td>66</td>\n",
       "    </tr>\n",
       "    <tr>\n",
       "      <th>2</th>\n",
       "      <td>Mannen</td>\n",
       "      <td>A Landbouw, bosbouw en visserij</td>\n",
       "      <td>2013</td>\n",
       "      <td>Banen</td>\n",
       "      <td>Werknemers</td>\n",
       "      <td>75</td>\n",
       "    </tr>\n",
       "    <tr>\n",
       "      <th>3</th>\n",
       "      <td>Mannen</td>\n",
       "      <td>A Landbouw, bosbouw en visserij</td>\n",
       "      <td>2013</td>\n",
       "      <td>Banen</td>\n",
       "      <td>Zelfstandigen</td>\n",
       "      <td>89</td>\n",
       "    </tr>\n",
       "    <tr>\n",
       "      <th>4</th>\n",
       "      <td>Mannen</td>\n",
       "      <td>A Landbouw, bosbouw en visserij</td>\n",
       "      <td>2013</td>\n",
       "      <td>Arbeidsjaren</td>\n",
       "      <td>Werknemers</td>\n",
       "      <td>56</td>\n",
       "    </tr>\n",
       "  </tbody>\n",
       "</table>\n",
       "</div>"
      ],
      "text/plain": [
       "  Geslacht Bedrijfstakken/branches (SBI 2008)  Perioden          Onderwerp  \\\n",
       "0   Mannen    A Landbouw, bosbouw en visserij      2013  Werkzame personen   \n",
       "1   Mannen    A Landbouw, bosbouw en visserij      2013  Werkzame personen   \n",
       "2   Mannen    A Landbouw, bosbouw en visserij      2013              Banen   \n",
       "3   Mannen    A Landbouw, bosbouw en visserij      2013              Banen   \n",
       "4   Mannen    A Landbouw, bosbouw en visserij      2013       Arbeidsjaren   \n",
       "\n",
       "  Type werkenden  Waarde  \n",
       "0     Werknemers      68  \n",
       "1  Zelfstandigen      66  \n",
       "2     Werknemers      75  \n",
       "3  Zelfstandigen      89  \n",
       "4     Werknemers      56  "
      ]
     },
     "metadata": {},
     "output_type": "display_data"
    },
    {
     "name": "stdout",
     "output_type": "stream",
     "text": [
      "<class 'pandas.core.frame.DataFrame'>\n",
      "RangeIndex: 1920 entries, 0 to 1919\n",
      "Data columns (total 6 columns):\n",
      " #   Column                              Non-Null Count  Dtype \n",
      "---  ------                              --------------  ----- \n",
      " 0   Geslacht                            1920 non-null   object\n",
      " 1   Bedrijfstakken/branches (SBI 2008)  1920 non-null   object\n",
      " 2   Perioden                            1920 non-null   int64 \n",
      " 3   Onderwerp                           1920 non-null   object\n",
      " 4   Type werkenden                      1920 non-null   object\n",
      " 5   Waarde                              1920 non-null   int64 \n",
      "dtypes: int64(2), object(4)\n",
      "memory usage: 90.1+ KB\n"
     ]
    },
    {
     "data": {
      "text/plain": [
       "None"
      ]
     },
     "metadata": {},
     "output_type": "display_data"
    },
    {
     "name": "stdout",
     "output_type": "stream",
     "text": [
      "['Mannen' 'Vrouwen']\n",
      "['A Landbouw, bosbouw en visserij' 'B Delfstoffenwinning' 'C Industrie'\n",
      " 'D Energievoorziening' 'E Waterbedrijven en afvalbeheer'\n",
      " 'F Bouwnijverheid' 'G Handel' 'H Vervoer en opslag' 'I Horeca'\n",
      " 'J Informatie en communicatie' 'K Financiële dienstverlening'\n",
      " 'L Verhuur en handel van onroerend goed'\n",
      " 'M Specialistische zakelijke diensten'\n",
      " 'N Verhuur en overige zakelijke diensten'\n",
      " 'O Openbaar bestuur en overheidsdiensten' 'P Onderwijs'\n",
      " 'Q Gezondheids- en welzijnszorg' 'R Cultuur, sport en recreatie'\n",
      " 'S Overige dienstverlening' 'T Huishoudens']\n",
      "[2013 2014 2015 2016 2017 2018]\n",
      "['Werkzame personen' 'Banen' 'Arbeidsjaren' 'Gewerkte uren']\n",
      "['Werknemers' 'Zelfstandigen']\n"
     ]
    }
   ],
   "source": [
    "filename = 'Dataset1 week 9.csv'\n",
    "\n",
    "data = pd.read_csv(filename, sep=';')\n",
    "display(data.head())\n",
    "display (data.info())\n",
    "\n",
    "for kol in data.columns:\n",
    "    if kol != 'Waarde':\n",
    "        print(data[kol].unique())"
   ]
  },
  {
   "cell_type": "markdown",
   "metadata": {},
   "source": [
    "Hoeveel banen waren er in 2018? "
   ]
  },
  {
   "cell_type": "code",
   "execution_count": 164,
   "metadata": {},
   "outputs": [
    {
     "name": "stdout",
     "output_type": "stream",
     "text": [
      "Banen in 2018: 10564\n"
     ]
    }
   ],
   "source": [
    "banen2018 = data[(data['Perioden']==2018)\n",
    "                & (data['Onderwerp']=='Banen')]\n",
    "\n",
    "print ('Banen in 2018:',banen2018['Waarde'].sum())"
   ]
  },
  {
   "cell_type": "markdown",
   "metadata": {},
   "source": [
    "Wat is in de jaren 2013-2018 het maximaal aantal personen werkzaam geweest in de Landbouw, bosbouw en visserij? "
   ]
  },
  {
   "cell_type": "code",
   "execution_count": 165,
   "metadata": {},
   "outputs": [
    {
     "name": "stderr",
     "output_type": "stream",
     "text": [
      "C:\\Users\\adrka\\AppData\\Local\\Temp\\ipykernel_4064\\2835651762.py:5: FutureWarning: The default value of numeric_only in DataFrameGroupBy.sum is deprecated. In a future version, numeric_only will default to False. Either specify numeric_only or select only columns which should be valid for the function.\n",
      "  (data['Onderwerp']=='Werkzame personen')].groupby('Perioden').sum().max()\n"
     ]
    },
    {
     "data": {
      "text/plain": [
       "Waarde    200\n",
       "dtype: int64"
      ]
     },
     "execution_count": 165,
     "metadata": {},
     "output_type": "execute_result"
    }
   ],
   "source": [
    "personen_labovi = data[data['Bedrijfstakken/branches (SBI 2008)']=='A Landbouw, bosbouw en visserij']\n",
    "# display(personen_labovi.loc[personen_labovi['Waarde']==personen_labovi['Waarde'].max(), ['Perioden','Type werkenden', 'Waarde']])\n",
    "\n",
    "data[(data['Bedrijfstakken/branches (SBI 2008)']=='A Landbouw, bosbouw en visserij') &\n",
    "     (data['Onderwerp']=='Werkzame personen')].groupby('Perioden').sum().max()\n"
   ]
  },
  {
   "cell_type": "markdown",
   "metadata": {},
   "source": [
    "Werken er meer mannen of meer vrouwen in de gezondheidszorg? "
   ]
  },
  {
   "cell_type": "code",
   "execution_count": 199,
   "metadata": {},
   "outputs": [
    {
     "name": "stdout",
     "output_type": "stream",
     "text": [
      "Er werken meer vrouwen in de gezondheidszorg\n",
      "\n",
      "----of----\n",
      "\n",
      "Er werken meer Vrouwen in de gezondheidszorg.\n"
     ]
    }
   ],
   "source": [
    "personen_gezondheid = data[data['Bedrijfstakken/branches (SBI 2008)'].str.lower().str.contains('gezondheid')]\n",
    "\n",
    "\n",
    "ghz_mannen =personen_gezondheid.loc[personen_gezondheid['Geslacht'] == 'Mannen', 'Waarde'].sum()\n",
    "ghz_vrouwen =personen_gezondheid.loc[personen_gezondheid['Geslacht'] == 'Vrouwen', 'Waarde'].sum()\n",
    "\n",
    "if ghz_mannen > ghz_vrouwen:\n",
    "    print ('Er werken weer mannen in de gezondheidszorg')\n",
    "else:\n",
    "    print ('Er werken meer vrouwen in de gezondheidszorg')\n",
    "    \n",
    "\n",
    "ghz_personeel = personen_gezondheid.groupby('Geslacht')['Waarde'].sum().reset_index()\n",
    "\n",
    "\n",
    "print('\\n----of----\\n')\n",
    "\n",
    "print ('Er werken meer %s in de gezondheidszorg.' %(ghz_personeel.loc[ ghz_personeel['Waarde'] == \n",
    "                                                                        ghz_personeel['Waarde'].max(), 'Geslacht'].values[0]))\n",
    "\n"
   ]
  },
  {
   "cell_type": "markdown",
   "metadata": {},
   "source": [
    "Wat is de procentuele stijging in arbeidsjaren tussen 2015 en 2014? "
   ]
  },
  {
   "cell_type": "code",
   "execution_count": 200,
   "metadata": {},
   "outputs": [
    {
     "data": {
      "text/plain": [
       "6925"
      ]
     },
     "metadata": {},
     "output_type": "display_data"
    },
    {
     "data": {
      "text/plain": [
       "7013"
      ]
     },
     "metadata": {},
     "output_type": "display_data"
    },
    {
     "name": "stdout",
     "output_type": "stream",
     "text": [
      "procentuelen stijging tussen 2014 en 2015 is: 1.270758% \n"
     ]
    },
    {
     "data": {
      "text/plain": [
       "1.0127075812274369"
      ]
     },
     "metadata": {},
     "output_type": "display_data"
    }
   ],
   "source": [
    "arbeid_2014 = data.loc[(data['Perioden']==2014) & (data['Onderwerp']=='Arbeidsjaren') , 'Waarde'].sum()\n",
    "arbeid_2015 = data.loc[(data['Perioden']==2015) & (data['Onderwerp']=='Arbeidsjaren') , 'Waarde'].sum()\n",
    "\n",
    "display(arbeid_2014,arbeid_2015)\n",
    "stijging2014_2015 = (arbeid_2015 - arbeid_2014) / arbeid_2014\n",
    "\n",
    "print ('procentuelen stijging tussen 2014 en 2015 is: %f%% '%(stijging2014_2015*100))\n",
    "\n",
    "#Wat is de procentuele stijging in arbeidsjaren tussen 2015 en 2014\n",
    "jaar2015 = data[(data['Perioden'] == 2015) & (data['Onderwerp'] == 'Arbeidsjaren')]['Waarde'].sum()\n",
    "jaar2014 = data[(data['Perioden'] == 2014) & (data['Onderwerp'] == 'Arbeidsjaren')]['Waarde'].sum()\n",
    "\n",
    "display (jaar2015 / jaar2014) # *100%?\n",
    "data.dropna"
   ]
  },
  {
   "cell_type": "markdown",
   "metadata": {},
   "source": [
    "Welk type banen (werkenden en zelfstandigen) is het meest gestegen in de periode 2013-2018? "
   ]
  },
  {
   "cell_type": "code",
   "execution_count": null,
   "metadata": {},
   "outputs": [
    {
     "name": "stdout",
     "output_type": "stream",
     "text": [
      "Type banen met de meeste stijging is \"N Verhuur en overige zakelijke diensten\" met 0.24%.\n"
     ]
    }
   ],
   "source": [
    "werkenden2013 = data[(data['Perioden']==2013) & (data['Onderwerp']=='Banen')].pivot_table(index='Bedrijfstakken/branches (SBI 2008)', values='Waarde', aggfunc='sum')\n",
    "\n",
    "werkenden2018 = data[(data['Perioden']==2018) & (data['Onderwerp']=='Banen')].pivot_table(index='Bedrijfstakken/branches (SBI 2008)', values='Waarde', aggfunc='sum')\n",
    "\n",
    "\n",
    "stijging_2013_2018 = (werkenden2018-werkenden2013) / werkenden2013\n",
    "\n",
    "\n",
    "type_werkenden_meeste_stijging = stijging_2013_2018[stijging_2013_2018['Waarde']==stijging_2013_2018['Waarde'].max()]\n",
    "\n",
    "\n",
    "print('Type banen met de meeste stijging is \"%s\" met %.2f%%.'\n",
    "      %(type_werkenden_meeste_stijging.index[0], type_werkenden_meeste_stijging.values[0]))\n",
    "\n",
    "\n"
   ]
  }
 ],
 "metadata": {
  "kernelspec": {
   "display_name": "Python 3.11.0 64-bit",
   "language": "python",
   "name": "python3"
  },
  "language_info": {
   "codemirror_mode": {
    "name": "ipython",
    "version": 3
   },
   "file_extension": ".py",
   "mimetype": "text/x-python",
   "name": "python",
   "nbconvert_exporter": "python",
   "pygments_lexer": "ipython3",
   "version": "3.11.0"
  },
  "orig_nbformat": 4,
  "vscode": {
   "interpreter": {
    "hash": "c3941ba0c0426d0d78f6b0396c853f05363bf15fab2656367eb2df20e99c6933"
   }
  }
 },
 "nbformat": 4,
 "nbformat_minor": 2
}
